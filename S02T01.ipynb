{
 "cells": [
  {
   "cell_type": "code",
   "execution_count": 2,
   "id": "fc7aab75",
   "metadata": {
    "scrolled": true
   },
   "outputs": [
    {
     "name": "stdout",
     "output_type": "stream",
     "text": [
      "3\n"
     ]
    }
   ],
   "source": [
    "print (1+1*2)"
   ]
  },
  {
   "cell_type": "markdown",
   "id": "d7b51b32",
   "metadata": {},
   "source": [
    "# Títol\n",
    "## blabla\n",
    "### blabla petit"
   ]
  },
  {
   "cell_type": "code",
   "execution_count": 3,
   "id": "60c3b876",
   "metadata": {},
   "outputs": [
    {
     "name": "stdout",
     "output_type": "stream",
     "text": [
      "eee\n"
     ]
    }
   ],
   "source": [
    "# blablabla\n",
    "print ('eee')"
   ]
  },
  {
   "cell_type": "markdown",
   "id": "d95098f9",
   "metadata": {},
   "source": [
    "* e\n",
    "* ee\n",
    "* eee\n",
    "    * huh"
   ]
  },
  {
   "cell_type": "code",
   "execution_count": 5,
   "id": "8e9e9f41",
   "metadata": {},
   "outputs": [
    {
     "name": "stdout",
     "output_type": "stream",
     "text": [
      "guhehe\n"
     ]
    }
   ],
   "source": [
    "wa=\"guhehe\"\n",
    "print(wa)"
   ]
  },
  {
   "cell_type": "markdown",
   "id": "3f3ff3e8",
   "metadata": {},
   "source": [
    "![](croqueta.png)"
   ]
  },
  {
   "cell_type": "code",
   "execution_count": null,
   "id": "39636738",
   "metadata": {},
   "outputs": [],
   "source": []
  }
 ],
 "metadata": {
  "kernelspec": {
   "display_name": "Python 3",
   "language": "python",
   "name": "python3"
  },
  "language_info": {
   "codemirror_mode": {
    "name": "ipython",
    "version": 3
   },
   "file_extension": ".py",
   "mimetype": "text/x-python",
   "name": "python",
   "nbconvert_exporter": "python",
   "pygments_lexer": "ipython3",
   "version": "3.8.8"
  }
 },
 "nbformat": 4,
 "nbformat_minor": 5
}
